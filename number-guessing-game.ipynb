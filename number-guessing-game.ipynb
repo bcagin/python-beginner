{
 "cells": [
  {
   "cell_type": "code",
   "execution_count": 2,
   "id": "d2882ec7",
   "metadata": {},
   "outputs": [],
   "source": [
    "import random"
   ]
  },
  {
   "cell_type": "code",
   "execution_count": 4,
   "id": "34b06a2b",
   "metadata": {},
   "outputs": [
    {
     "name": "stdout",
     "output_type": "stream",
     "text": [
      "Type a number as an upper limit: 15\n",
      "Type your guess: 15\n",
      "Your guess is above the number!\n",
      "Type your guess: 14\n",
      "Your guess is above the number!\n",
      "Type your guess: 8\n",
      "Your guess is above the number!\n",
      "Type your guess: 6\n",
      "Your guess is above the number!\n",
      "Type your guess: 4\n",
      "Your guess is below the number!\n",
      "Type your guess: 5\n",
      "You made it!\n",
      "Congrats! You made it in 6 guesses.\n"
     ]
    }
   ],
   "source": [
    "top_limit = input(\"Type a number as an upper limit: \")\n",
    "\n",
    "if top_limit.isdigit():\n",
    "    top_limit = int(top_limit)\n",
    "    \n",
    "    if top_limit < 0:\n",
    "        print(\"Please enter a number greater than 0.\")\n",
    "        \n",
    "else: \n",
    "    print(\"Please enter a number!\")\n",
    "    \n",
    "\n",
    "random_number = random.randint(0, top_limit)\n",
    "number_of_guesses = 0\n",
    "\n",
    "while True:\n",
    "    number_of_guesses += 1\n",
    "    user_input = input(\"Type your guess: \")\n",
    "    \n",
    "    if user_input.isdigit():\n",
    "        user_input = int(user_input)\n",
    "        \n",
    "    else: \n",
    "        print(\"Please enter a number!\")\n",
    "        continue\n",
    "    \n",
    "    if user_input == random_number:\n",
    "        print(\"You made it!\")\n",
    "        break\n",
    "        \n",
    "    elif user_input > random_number:\n",
    "        print(\"Your guess is above the number!\")\n",
    "        \n",
    "    else:\n",
    "        print(\"Your guess is below the number!\")\n",
    "        \n",
    "\n",
    "print(\"Congrats! You made it in \"+ str(number_of_guesses) + \" guesses.\")\n",
    "\n"
   ]
  },
  {
   "cell_type": "code",
   "execution_count": null,
   "id": "6de8d520",
   "metadata": {},
   "outputs": [],
   "source": []
  }
 ],
 "metadata": {
  "kernelspec": {
   "display_name": "Python 3 (ipykernel)",
   "language": "python",
   "name": "python3"
  },
  "language_info": {
   "codemirror_mode": {
    "name": "ipython",
    "version": 3
   },
   "file_extension": ".py",
   "mimetype": "text/x-python",
   "name": "python",
   "nbconvert_exporter": "python",
   "pygments_lexer": "ipython3",
   "version": "3.9.12"
  }
 },
 "nbformat": 4,
 "nbformat_minor": 5
}
